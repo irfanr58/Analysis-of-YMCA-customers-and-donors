{
 "cells": [
  {
   "cell_type": "code",
   "execution_count": 1,
   "id": "d152e1eb",
   "metadata": {},
   "outputs": [],
   "source": [
    "import pandas as pd\n",
    "import numpy as np\n",
    "import seaborn as sns\n",
    "import scipy as sc\n",
    "import matplotlib.pyplot as plt \n",
    "import statistics as st\n",
    "from statsmodels.stats.proportion import proportions_ztest\n",
    "from statsmodels.stats.proportion import proportion_confint "
   ]
  },
  {
   "cell_type": "markdown",
   "id": "21e5c181",
   "metadata": {},
   "source": [
    "# Exploratory Data Analysis"
   ]
  },
  {
   "cell_type": "code",
   "execution_count": 2,
   "id": "de692c20",
   "metadata": {},
   "outputs": [],
   "source": [
    "original_df = pd.read_excel(\"/Users/mike/Library/Mobile Documents/com~apple~CloudDocs/My Files (iCloud)/Working/Working Directory/Georgian College/2nd Semester/MRP/Data/Import to Python/Original Postal Codes Data.xlsx\", header = 0)"
   ]
  },
  {
   "cell_type": "code",
   "execution_count": 3,
   "id": "fe4c0c05",
   "metadata": {},
   "outputs": [
    {
     "data": {
      "text/html": [
       "<div>\n",
       "<style scoped>\n",
       "    .dataframe tbody tr th:only-of-type {\n",
       "        vertical-align: middle;\n",
       "    }\n",
       "\n",
       "    .dataframe tbody tr th {\n",
       "        vertical-align: top;\n",
       "    }\n",
       "\n",
       "    .dataframe thead th {\n",
       "        text-align: right;\n",
       "    }\n",
       "</style>\n",
       "<table border=\"1\" class=\"dataframe\">\n",
       "  <thead>\n",
       "    <tr style=\"text-align: right;\">\n",
       "      <th></th>\n",
       "      <th>Camp Kitchi</th>\n",
       "      <th>Day Camp</th>\n",
       "      <th>Child Care</th>\n",
       "      <th>HFA</th>\n",
       "      <th>Philanthropy</th>\n",
       "    </tr>\n",
       "  </thead>\n",
       "  <tbody>\n",
       "    <tr>\n",
       "      <th>0</th>\n",
       "      <td>L4N 4M3</td>\n",
       "      <td>P2A 2R7</td>\n",
       "      <td>L9Y 0C5</td>\n",
       "      <td>3056</td>\n",
       "      <td>L0L 1T0</td>\n",
       "    </tr>\n",
       "    <tr>\n",
       "      <th>1</th>\n",
       "      <td>M4J 4V3</td>\n",
       "      <td>L0L 1T0</td>\n",
       "      <td>L4M 2H9</td>\n",
       "      <td>3206</td>\n",
       "      <td>L0L 1W0</td>\n",
       "    </tr>\n",
       "    <tr>\n",
       "      <th>2</th>\n",
       "      <td>P0E 1N0</td>\n",
       "      <td>P2A 2X4</td>\n",
       "      <td>L4M 6R8</td>\n",
       "      <td>14216</td>\n",
       "      <td>L9Z 2T2</td>\n",
       "    </tr>\n",
       "    <tr>\n",
       "      <th>3</th>\n",
       "      <td>L4R 1X9</td>\n",
       "      <td>L4R 4Y4</td>\n",
       "      <td>L0G 1A0</td>\n",
       "      <td>14513</td>\n",
       "      <td>L9Y 2N2</td>\n",
       "    </tr>\n",
       "    <tr>\n",
       "      <th>4</th>\n",
       "      <td>L9W 0A5</td>\n",
       "      <td>L3Z 3C1</td>\n",
       "      <td>L9Y 5L2</td>\n",
       "      <td>15090</td>\n",
       "      <td>L4M 6C5</td>\n",
       "    </tr>\n",
       "    <tr>\n",
       "      <th>...</th>\n",
       "      <td>...</td>\n",
       "      <td>...</td>\n",
       "      <td>...</td>\n",
       "      <td>...</td>\n",
       "      <td>...</td>\n",
       "    </tr>\n",
       "    <tr>\n",
       "      <th>12555</th>\n",
       "      <td>NaN</td>\n",
       "      <td>NaN</td>\n",
       "      <td>NaN</td>\n",
       "      <td>M6E 3N4</td>\n",
       "      <td>NaN</td>\n",
       "    </tr>\n",
       "    <tr>\n",
       "      <th>12556</th>\n",
       "      <td>NaN</td>\n",
       "      <td>NaN</td>\n",
       "      <td>NaN</td>\n",
       "      <td>M6M 5E2</td>\n",
       "      <td>NaN</td>\n",
       "    </tr>\n",
       "    <tr>\n",
       "      <th>12557</th>\n",
       "      <td>NaN</td>\n",
       "      <td>NaN</td>\n",
       "      <td>NaN</td>\n",
       "      <td>M9N 1R1</td>\n",
       "      <td>NaN</td>\n",
       "    </tr>\n",
       "    <tr>\n",
       "      <th>12558</th>\n",
       "      <td>NaN</td>\n",
       "      <td>NaN</td>\n",
       "      <td>NaN</td>\n",
       "      <td>MC6 3W4</td>\n",
       "      <td>NaN</td>\n",
       "    </tr>\n",
       "    <tr>\n",
       "      <th>12559</th>\n",
       "      <td>NaN</td>\n",
       "      <td>NaN</td>\n",
       "      <td>NaN</td>\n",
       "      <td>3770</td>\n",
       "      <td>NaN</td>\n",
       "    </tr>\n",
       "  </tbody>\n",
       "</table>\n",
       "<p>12560 rows × 5 columns</p>\n",
       "</div>"
      ],
      "text/plain": [
       "      Camp Kitchi Day Camp Child Care      HFA Philanthropy\n",
       "0         L4N 4M3  P2A 2R7    L9Y 0C5     3056      L0L 1T0\n",
       "1         M4J 4V3  L0L 1T0    L4M 2H9     3206      L0L 1W0\n",
       "2         P0E 1N0  P2A 2X4    L4M 6R8    14216      L9Z 2T2\n",
       "3         L4R 1X9  L4R 4Y4    L0G 1A0    14513      L9Y 2N2\n",
       "4         L9W 0A5  L3Z 3C1    L9Y 5L2    15090      L4M 6C5\n",
       "...           ...      ...        ...      ...          ...\n",
       "12555         NaN      NaN        NaN  M6E 3N4          NaN\n",
       "12556         NaN      NaN        NaN  M6M 5E2          NaN\n",
       "12557         NaN      NaN        NaN  M9N 1R1          NaN\n",
       "12558         NaN      NaN        NaN  MC6 3W4          NaN\n",
       "12559         NaN      NaN        NaN     3770          NaN\n",
       "\n",
       "[12560 rows x 5 columns]"
      ]
     },
     "execution_count": 3,
     "metadata": {},
     "output_type": "execute_result"
    }
   ],
   "source": [
    "original_df"
   ]
  },
  {
   "cell_type": "code",
   "execution_count": 4,
   "id": "44222038",
   "metadata": {},
   "outputs": [
    {
     "data": {
      "text/html": [
       "<div>\n",
       "<style scoped>\n",
       "    .dataframe tbody tr th:only-of-type {\n",
       "        vertical-align: middle;\n",
       "    }\n",
       "\n",
       "    .dataframe tbody tr th {\n",
       "        vertical-align: top;\n",
       "    }\n",
       "\n",
       "    .dataframe thead th {\n",
       "        text-align: right;\n",
       "    }\n",
       "</style>\n",
       "<table border=\"1\" class=\"dataframe\">\n",
       "  <thead>\n",
       "    <tr style=\"text-align: right;\">\n",
       "      <th></th>\n",
       "      <th>Camp Kitchi</th>\n",
       "      <th>Day Camp</th>\n",
       "      <th>Child Care</th>\n",
       "      <th>HFA</th>\n",
       "      <th>Philanthropy</th>\n",
       "    </tr>\n",
       "  </thead>\n",
       "  <tbody>\n",
       "    <tr>\n",
       "      <th>count</th>\n",
       "      <td>510</td>\n",
       "      <td>560</td>\n",
       "      <td>1094</td>\n",
       "      <td>12559</td>\n",
       "      <td>6330</td>\n",
       "    </tr>\n",
       "    <tr>\n",
       "      <th>unique</th>\n",
       "      <td>510</td>\n",
       "      <td>560</td>\n",
       "      <td>1094</td>\n",
       "      <td>12559</td>\n",
       "      <td>6330</td>\n",
       "    </tr>\n",
       "    <tr>\n",
       "      <th>top</th>\n",
       "      <td>L0G 1A0</td>\n",
       "      <td>L9Z 2L3</td>\n",
       "      <td>L4M 2Z2</td>\n",
       "      <td>P1P 1K3</td>\n",
       "      <td>P1P 1K3</td>\n",
       "    </tr>\n",
       "    <tr>\n",
       "      <th>freq</th>\n",
       "      <td>1</td>\n",
       "      <td>1</td>\n",
       "      <td>1</td>\n",
       "      <td>1</td>\n",
       "      <td>1</td>\n",
       "    </tr>\n",
       "  </tbody>\n",
       "</table>\n",
       "</div>"
      ],
      "text/plain": [
       "       Camp Kitchi Day Camp Child Care      HFA Philanthropy\n",
       "count          510      560       1094    12559         6330\n",
       "unique         510      560       1094    12559         6330\n",
       "top        L0G 1A0  L9Z 2L3    L4M 2Z2  P1P 1K3      P1P 1K3\n",
       "freq             1        1          1        1            1"
      ]
     },
     "execution_count": 4,
     "metadata": {},
     "output_type": "execute_result"
    }
   ],
   "source": [
    "original_df.describe()"
   ]
  },
  {
   "cell_type": "code",
   "execution_count": 5,
   "id": "15bd89a1",
   "metadata": {},
   "outputs": [],
   "source": [
    "market_basket_df = pd.read_excel(\"/Users/mike/Library/Mobile Documents/com~apple~CloudDocs/My Files (iCloud)/Working/Working Directory/Georgian College/2nd Semester/MRP/Data/Import to Python/Market Basket Analysis Data.xlsx\", header = 0)"
   ]
  },
  {
   "cell_type": "code",
   "execution_count": 6,
   "id": "12408898",
   "metadata": {},
   "outputs": [
    {
     "data": {
      "text/html": [
       "<div>\n",
       "<style scoped>\n",
       "    .dataframe tbody tr th:only-of-type {\n",
       "        vertical-align: middle;\n",
       "    }\n",
       "\n",
       "    .dataframe tbody tr th {\n",
       "        vertical-align: top;\n",
       "    }\n",
       "\n",
       "    .dataframe thead th {\n",
       "        text-align: right;\n",
       "    }\n",
       "</style>\n",
       "<table border=\"1\" class=\"dataframe\">\n",
       "  <thead>\n",
       "    <tr style=\"text-align: right;\">\n",
       "      <th></th>\n",
       "      <th>Postal Code</th>\n",
       "      <th>Camp Kitchi</th>\n",
       "      <th>Day Camp</th>\n",
       "      <th>Child Care</th>\n",
       "      <th>HFA</th>\n",
       "      <th>Philanthropy</th>\n",
       "      <th>Total Product Used</th>\n",
       "    </tr>\n",
       "  </thead>\n",
       "  <tbody>\n",
       "    <tr>\n",
       "      <th>0</th>\n",
       "      <td>P0E 1N0</td>\n",
       "      <td>1</td>\n",
       "      <td>1</td>\n",
       "      <td>1</td>\n",
       "      <td>1</td>\n",
       "      <td>1</td>\n",
       "      <td>5</td>\n",
       "    </tr>\n",
       "    <tr>\n",
       "      <th>1</th>\n",
       "      <td>L9Z 1M1</td>\n",
       "      <td>1</td>\n",
       "      <td>1</td>\n",
       "      <td>1</td>\n",
       "      <td>1</td>\n",
       "      <td>1</td>\n",
       "      <td>5</td>\n",
       "    </tr>\n",
       "    <tr>\n",
       "      <th>2</th>\n",
       "      <td>L9Y 5H2</td>\n",
       "      <td>1</td>\n",
       "      <td>1</td>\n",
       "      <td>1</td>\n",
       "      <td>1</td>\n",
       "      <td>1</td>\n",
       "      <td>5</td>\n",
       "    </tr>\n",
       "    <tr>\n",
       "      <th>3</th>\n",
       "      <td>L9Y 0Y9</td>\n",
       "      <td>1</td>\n",
       "      <td>1</td>\n",
       "      <td>1</td>\n",
       "      <td>1</td>\n",
       "      <td>1</td>\n",
       "      <td>5</td>\n",
       "    </tr>\n",
       "    <tr>\n",
       "      <th>4</th>\n",
       "      <td>L9Y 0E5</td>\n",
       "      <td>1</td>\n",
       "      <td>1</td>\n",
       "      <td>1</td>\n",
       "      <td>1</td>\n",
       "      <td>1</td>\n",
       "      <td>5</td>\n",
       "    </tr>\n",
       "    <tr>\n",
       "      <th>...</th>\n",
       "      <td>...</td>\n",
       "      <td>...</td>\n",
       "      <td>...</td>\n",
       "      <td>...</td>\n",
       "      <td>...</td>\n",
       "      <td>...</td>\n",
       "      <td>...</td>\n",
       "    </tr>\n",
       "    <tr>\n",
       "      <th>2157</th>\n",
       "      <td>14513</td>\n",
       "      <td>0</td>\n",
       "      <td>0</td>\n",
       "      <td>0</td>\n",
       "      <td>1</td>\n",
       "      <td>0</td>\n",
       "      <td>1</td>\n",
       "    </tr>\n",
       "    <tr>\n",
       "      <th>2158</th>\n",
       "      <td>14216</td>\n",
       "      <td>0</td>\n",
       "      <td>0</td>\n",
       "      <td>0</td>\n",
       "      <td>1</td>\n",
       "      <td>0</td>\n",
       "      <td>1</td>\n",
       "    </tr>\n",
       "    <tr>\n",
       "      <th>2159</th>\n",
       "      <td>1328KH</td>\n",
       "      <td>0</td>\n",
       "      <td>0</td>\n",
       "      <td>0</td>\n",
       "      <td>1</td>\n",
       "      <td>0</td>\n",
       "      <td>1</td>\n",
       "    </tr>\n",
       "    <tr>\n",
       "      <th>2160</th>\n",
       "      <td>11768</td>\n",
       "      <td>0</td>\n",
       "      <td>0</td>\n",
       "      <td>0</td>\n",
       "      <td>0</td>\n",
       "      <td>1</td>\n",
       "      <td>1</td>\n",
       "    </tr>\n",
       "    <tr>\n",
       "      <th>2161</th>\n",
       "      <td>10026</td>\n",
       "      <td>0</td>\n",
       "      <td>0</td>\n",
       "      <td>0</td>\n",
       "      <td>0</td>\n",
       "      <td>1</td>\n",
       "      <td>1</td>\n",
       "    </tr>\n",
       "  </tbody>\n",
       "</table>\n",
       "<p>2162 rows × 7 columns</p>\n",
       "</div>"
      ],
      "text/plain": [
       "     Postal Code  Camp Kitchi  Day Camp  Child Care  HFA  Philanthropy  \\\n",
       "0        P0E 1N0            1         1           1    1             1   \n",
       "1        L9Z 1M1            1         1           1    1             1   \n",
       "2        L9Y 5H2            1         1           1    1             1   \n",
       "3        L9Y 0Y9            1         1           1    1             1   \n",
       "4        L9Y 0E5            1         1           1    1             1   \n",
       "...          ...          ...       ...         ...  ...           ...   \n",
       "2157       14513            0         0           0    1             0   \n",
       "2158       14216            0         0           0    1             0   \n",
       "2159      1328KH            0         0           0    1             0   \n",
       "2160       11768            0         0           0    0             1   \n",
       "2161       10026            0         0           0    0             1   \n",
       "\n",
       "      Total Product Used  \n",
       "0                      5  \n",
       "1                      5  \n",
       "2                      5  \n",
       "3                      5  \n",
       "4                      5  \n",
       "...                  ...  \n",
       "2157                   1  \n",
       "2158                   1  \n",
       "2159                   1  \n",
       "2160                   1  \n",
       "2161                   1  \n",
       "\n",
       "[2162 rows x 7 columns]"
      ]
     },
     "execution_count": 6,
     "metadata": {},
     "output_type": "execute_result"
    }
   ],
   "source": [
    "market_basket_df"
   ]
  },
  {
   "cell_type": "markdown",
   "id": "192d631e",
   "metadata": {},
   "source": [
    "## Descriptive Statistics"
   ]
  },
  {
   "cell_type": "markdown",
   "id": "2124d08c",
   "metadata": {},
   "source": [
    "#### 1. Proportion of clients in different channels who are also donors"
   ]
  },
  {
   "cell_type": "code",
   "execution_count": 7,
   "id": "e127582b",
   "metadata": {},
   "outputs": [],
   "source": [
    "### Define count function to get number of clients who also donors\n",
    "def count_matching(product):\n",
    "    output = market_basket_df[(market_basket_df[product] == 1) & (market_basket_df['Philanthropy'] == 1)]['Postal Code'].count()\n",
    "    return output"
   ]
  },
  {
   "cell_type": "code",
   "execution_count": 8,
   "id": "ad15d3a4",
   "metadata": {},
   "outputs": [
    {
     "data": {
      "text/plain": [
       "34.31"
      ]
     },
     "execution_count": 8,
     "metadata": {},
     "output_type": "execute_result"
    }
   ],
   "source": [
    "camp_kitchi_clients_also_donors = round((count_matching('Camp Kitchi') / original_df['Camp Kitchi'].count() * 100), 2)\n",
    "camp_kitchi_clients_also_donors"
   ]
  },
  {
   "cell_type": "code",
   "execution_count": 9,
   "id": "480a39d3",
   "metadata": {},
   "outputs": [
    {
     "data": {
      "text/plain": [
       "53.93"
      ]
     },
     "execution_count": 9,
     "metadata": {},
     "output_type": "execute_result"
    }
   ],
   "source": [
    "day_camp_clients_also_donors = round((count_matching('Day Camp') / original_df['Day Camp'].count() * 100), 2)\n",
    "day_camp_clients_also_donors"
   ]
  },
  {
   "cell_type": "code",
   "execution_count": 10,
   "id": "f9b70ac1",
   "metadata": {},
   "outputs": [
    {
     "data": {
      "text/plain": [
       "37.02"
      ]
     },
     "execution_count": 10,
     "metadata": {},
     "output_type": "execute_result"
    }
   ],
   "source": [
    "child_care_clients_also_donors = round((count_matching('Child Care') / original_df['Child Care'].count() * 100), 2)\n",
    "child_care_clients_also_donors"
   ]
  },
  {
   "cell_type": "code",
   "execution_count": 11,
   "id": "a9d89bba",
   "metadata": {},
   "outputs": [
    {
     "data": {
      "text/plain": [
       "7.33"
      ]
     },
     "execution_count": 11,
     "metadata": {},
     "output_type": "execute_result"
    }
   ],
   "source": [
    "hfa_clients_also_donors = round((count_matching('HFA') / original_df['HFA'].count() * 100), 2)\n",
    "hfa_clients_also_donors"
   ]
  },
  {
   "cell_type": "markdown",
   "id": "b3dddb26",
   "metadata": {},
   "source": [
    "Observation: \n",
    "- Notice that the the biggest proportion of clients who also are donors is from Day Camp (53.93%)\n",
    "- The second biggest proportion is from Child Care (37.02%)\n",
    "#### --> Conduct Inferential Analysis to verify if this difference is significant"
   ]
  },
  {
   "cell_type": "markdown",
   "id": "ba47097b",
   "metadata": {},
   "source": [
    "## Inferential Statistics"
   ]
  },
  {
   "cell_type": "markdown",
   "id": "d332778a",
   "metadata": {},
   "source": [
    "### 1. Hypothesis Testing\n",
    "- Null Hypothesis: P(Child Care Donors) = P(Day Camp Donors)\n",
    "- Alternative Hypothesis: P(Child Care Donors) # P(Day Camp Donors)\n",
    "- Significance Level alpha = 0.05"
   ]
  },
  {
   "cell_type": "code",
   "execution_count": 12,
   "id": "4d502859",
   "metadata": {},
   "outputs": [
    {
     "name": "stdout",
     "output_type": "stream",
     "text": [
      "The computed z-statistics =  -5.273701604976851\n",
      "p-value =  1.336992298414438e-07\n"
     ]
    }
   ],
   "source": [
    "number_of_successes = np.array([child_care_clients_also_donors, day_camp_clients_also_donors])\n",
    "total_sample_sizes = np.array([(original_df['Child Care'].count()), (original_df['Day Camp'].count())])\n",
    "(test_stat, p_value) = proportions_ztest(number_of_successes,total_sample_sizes, alternative = 'two-sided')\n",
    "print(\"The computed z-statistics = \", test_stat)\n",
    "print(\"p-value = \", p_value)"
   ]
  },
  {
   "cell_type": "markdown",
   "id": "3eac4d77",
   "metadata": {},
   "source": [
    "#### p-value << Significance Level --> Reject Null Hypothesis: P(Child Care Donors) # P(Day Camp Donor)"
   ]
  },
  {
   "cell_type": "markdown",
   "id": "c60c78b3",
   "metadata": {},
   "source": [
    "#### Conduct Right-tailed test to check if P(Child Care Donor) < P(Day Camp Donors)\n",
    "- Null Hypothesis: P(Child Care Donors) >= P(Day Camp Donors)\n",
    "- Alternative Hypothesis: P(Child Care Donors) < P(Day Camp Donors)\n",
    "- Significance Level alpha = 0.05"
   ]
  },
  {
   "cell_type": "code",
   "execution_count": 13,
   "id": "f7d04c93",
   "metadata": {},
   "outputs": [
    {
     "name": "stdout",
     "output_type": "stream",
     "text": [
      "The computed z-statistics =  -5.273701604976851\n",
      "p-value =  6.68496149207219e-08\n"
     ]
    }
   ],
   "source": [
    "number_of_successes = np.array([child_care_clients_also_donors, day_camp_clients_also_donors])\n",
    "total_sample_sizes = np.array([(original_df['Child Care'].count()), (original_df['Day Camp'].count())])\n",
    "(test_stat, p_value) = proportions_ztest(number_of_successes,total_sample_sizes, alternative = 'smaller')\n",
    "print(\"The computed z-statistics = \", test_stat)\n",
    "print(\"p-value = \", p_value)"
   ]
  },
  {
   "cell_type": "markdown",
   "id": "90014af3",
   "metadata": {},
   "source": [
    "#### p-value << Significance Level --> Reject Null Hypothesis --> P(Child Care Donors) < P(Day Camp Donor)"
   ]
  },
  {
   "cell_type": "markdown",
   "id": "000b5f6d",
   "metadata": {},
   "source": [
    "### 2. Estimation"
   ]
  },
  {
   "cell_type": "markdown",
   "id": "de59e75f",
   "metadata": {},
   "source": [
    "#### Calculate Confidence Interval of the true Proportion of Day Camp customers who are also donors"
   ]
  },
  {
   "cell_type": "code",
   "execution_count": 14,
   "id": "54f59ca4",
   "metadata": {},
   "outputs": [
    {
     "data": {
      "text/plain": [
       "(0.4980019418973268, 0.5805694866741017)"
      ]
     },
     "execution_count": 14,
     "metadata": {},
     "output_type": "execute_result"
    }
   ],
   "source": [
    "proportion_confint(count = count_matching('Day Camp'),    # Number of successes\n",
    "                   nobs = original_df['Day Camp'].count(),    # Number of trials\n",
    "                   alpha = (1 - 0.95))"
   ]
  },
  {
   "cell_type": "markdown",
   "id": "ae180715",
   "metadata": {},
   "source": [
    "#### Confidence Interval (True Proportion of Day Camp customers who are also donors) = 49.8% - 58% with Confidence Level of 95%"
   ]
  },
  {
   "cell_type": "markdown",
   "id": "c1e0414a",
   "metadata": {},
   "source": [
    "## Recommendations"
   ]
  },
  {
   "cell_type": "markdown",
   "id": "c361cfdb",
   "metadata": {},
   "source": [
    "- YMCA should spend resources in converting Day Camp customers into Donors since this channel has the biggest conversion rate\n",
    "- YMCA has roughly 50% - 58% chance to convert a Day Camp customer into a Donor"
   ]
  }
 ],
 "metadata": {
  "kernelspec": {
   "display_name": "Python 3",
   "language": "python",
   "name": "python3"
  },
  "language_info": {
   "codemirror_mode": {
    "name": "ipython",
    "version": 3
   },
   "file_extension": ".py",
   "mimetype": "text/x-python",
   "name": "python",
   "nbconvert_exporter": "python",
   "pygments_lexer": "ipython3",
   "version": "3.8.8"
  }
 },
 "nbformat": 4,
 "nbformat_minor": 5
}
